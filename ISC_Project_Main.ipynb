{
 "cells": [
  {
   "cell_type": "code",
   "execution_count": 31,
   "metadata": {},
   "outputs": [],
   "source": [
    "#Packages to install\n",
    "import json\n",
    "import urllib.parse\n",
    "import urllib.request\n",
    "import urllib.error\n",
    "import lxml.etree"
   ]
  },
  {
   "cell_type": "code",
   "execution_count": 32,
   "metadata": {},
   "outputs": [],
   "source": [
    "CODES = {}\n",
    "CODES[401] = \"Authentication credentials were missing or authentication failed.\"\n",
    "CODES[404] = \"The requested entity was not found.\"\n",
    "CODES[429] = \"The request could be served because the application has reached its usage limit.\"\n",
    "CODES[500] = \"Internal Server Error. Something has gone wrong, which we will correct.\"\n"
   ]
  },
  {
   "cell_type": "code",
   "execution_count": 33,
   "metadata": {},
   "outputs": [],
   "source": [
    "from ISC_Project_Functions import getAPIprefix"
   ]
  },
  {
   "cell_type": "code",
   "execution_count": 34,
   "metadata": {},
   "outputs": [],
   "source": [
    "from ISC_Project_Functions import query_DBpedia1"
   ]
  },
  {
   "cell_type": "code",
   "execution_count": 35,
   "metadata": {},
   "outputs": [],
   "source": [
    "from ISC_Project_Functions import parser4"
   ]
  },
  {
   "cell_type": "code",
   "execution_count": 36,
   "metadata": {},
   "outputs": [],
   "source": [
    "from ISC_Project_Functions import titleselector"
   ]
  },
  {
   "cell_type": "code",
   "execution_count": 37,
   "metadata": {},
   "outputs": [],
   "source": [
    "from ISC_Project_Functions import API_to_JSON"
   ]
  },
  {
   "cell_type": "code",
   "execution_count": 38,
   "metadata": {},
   "outputs": [],
   "source": [
    "from ISC_Project_Functions import jsonsearcher"
   ]
  },
  {
   "cell_type": "code",
   "execution_count": null,
   "metadata": {},
   "outputs": [
    {
     "name": "stdout",
     "output_type": "stream",
     "text": [
      "What are we looking for? (or q: to quit): bleeding edge\n",
      "{1: 'http://dbpedia.org/resource/Bleeding_Edge', 2: 'http://dbpedia.org/resource/The_Edge_Chronicles'}\n",
      "With which URI would you like to continue? Press the matching key. 1\n",
      "\n",
      "\n",
      "Title: Bleeding Edge\n",
      "\n",
      "\n",
      "Author: Thomas Pynchon\n",
      "\n",
      "\n",
      "About the author: Thomas Ruggles Pynchon Jr. (, commonly ; born May 8, 1937) is an American novelist. A MacArthur Fellow, he is noted for his dense and complex novels. His fiction and non-fiction writings encompass a vast array of subject matter, genres and themes, including history, music, science, and mathematics. For Gravity's Rainbow, Pynchon won the 1973 U.S. National Book Award for Fiction. Hailing from Long Island, Pynchon served two years in the United States Navy and earned an English degree from Cornell University. After publishing several short stories in the late 1950s and early 1960s, he began composing the novels for which he is best known: V. (1963), The Crying of Lot 49 (1966), and Gravity's Rainbow (1973). His 2009 novel Inherent Vice was adapted into a feature film of the same name by director Paul Thomas Anderson in 2014. Pynchon is notoriously reclusive; few photographs of him have been published, and rumors about his location and identity have circulated since the 1960s. Pynchon's most recent novel, Bleeding Edge, was published on September 17, 2013.\n",
      "\n",
      "\n",
      "Abstract: Bleeding Edge is a novel by American author Thomas Pynchon, published by Penguin Press on September 17, 2013. The novel is a detective story, with its major themes being the September 11 attacks in New York City and the transformation of the world by the Internet.\n",
      "\n",
      "\n",
      "Original Language: English\n",
      "\n",
      "\n",
      "Country: United States\n",
      "\n",
      "\n",
      "Number of pages: 477\n",
      "\n",
      "\n",
      "Publisher: Information absent in data\n",
      "\n",
      "\n",
      "Date of publication: 2013\n"
     ]
    }
   ],
   "source": [
    "if __name__ == \"__main__\":\n",
    "    search = \" \"\n",
    "    while not search == \"q\":\n",
    "        search = input(\"What are we looking for? (or q: to quit): \")\n",
    "        if search == 'q':\n",
    "            print(\"Querying DBPedia Ended\")\n",
    "            break\n",
    "        else:\n",
    "            # 1 Making sure the prefix we are using still works\n",
    "            DBPEDIA_PREFIX = getAPIprefix()\n",
    "            # 2 Harvesting XML\n",
    "            SEARCH_RESPONSE = query_DBpedia1(DBPEDIA_PREFIX, search)\n",
    "            # 3 Parsing XML to intermediary dictionary\n",
    "            PARENTS = parser4(SEARCH_RESPONSE)\n",
    "            # 4 Checking whether the database contains information about the book we are looking for.\n",
    "            # If not, the user can ask for a new title.\n",
    "            if PARENTS == {}:\n",
    "                    print(\"The title does not appear in the database, please try another title.\")\n",
    "                    continue\n",
    "            else: \n",
    "                POSSIBLE_URI = titleselector(PARENTS)\n",
    "            # 5 Transforming resouce URL to JSON URL \n",
    "                JSON_URI = API_to_JSON(POSSIBLE_URI)\n",
    "            # 6 Iterate over the JSON file and extract the wanted metadata\n",
    "                FINAL_DATA = jsonsearcher(POSSIBLE_URI, JSON_URI)    \n",
    "           "
   ]
  },
  {
   "cell_type": "code",
   "execution_count": null,
   "metadata": {},
   "outputs": [],
   "source": [
    "#18/01"
   ]
  }
 ],
 "metadata": {
  "kernelspec": {
   "display_name": "Python 3",
   "language": "python",
   "name": "python3"
  },
  "language_info": {
   "codemirror_mode": {
    "name": "ipython",
    "version": 3
   },
   "file_extension": ".py",
   "mimetype": "text/x-python",
   "name": "python",
   "nbconvert_exporter": "python",
   "pygments_lexer": "ipython3",
   "version": "3.8.3"
  }
 },
 "nbformat": 4,
 "nbformat_minor": 4
}
