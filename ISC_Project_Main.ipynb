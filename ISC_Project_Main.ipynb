{
 "cells": [
  {
   "cell_type": "code",
   "execution_count": 67,
   "metadata": {},
   "outputs": [],
   "source": [
    "#Packages to install\n",
    "import sys\n",
    "import json\n",
    "import lxml.etree\n",
    "import urllib.parse\n",
    "import urllib.error\n",
    "import urllib.request"
   ]
  },
  {
   "cell_type": "code",
   "execution_count": 68,
   "metadata": {},
   "outputs": [],
   "source": [
    "CODES = {}\n",
    "CODES[401] = \"Authentication credentials were missing or authentication failed.\"\n",
    "CODES[404] = \"The requested entity was not found.\"\n",
    "CODES[429] = \"The request could be served because the application has reached its usage limit.\"\n",
    "CODES[500] = \"Internal Server Error. Something has gone wrong, which we will correct.\"\n"
   ]
  },
  {
   "cell_type": "code",
   "execution_count": 60,
   "metadata": {},
   "outputs": [],
   "source": [
    "from ISC_Project_Functions import getAPIprefix"
   ]
  },
  {
   "cell_type": "code",
   "execution_count": 61,
   "metadata": {},
   "outputs": [],
   "source": [
    "from ISC_Project_Functions import query_DBpedia1"
   ]
  },
  {
   "cell_type": "code",
   "execution_count": 62,
   "metadata": {},
   "outputs": [],
   "source": [
    "from ISC_Project_Functions import parser4"
   ]
  },
  {
   "cell_type": "code",
   "execution_count": 63,
   "metadata": {},
   "outputs": [],
   "source": [
    "from ISC_Project_Functions import titleselector"
   ]
  },
  {
   "cell_type": "code",
   "execution_count": 64,
   "metadata": {},
   "outputs": [],
   "source": [
    "from ISC_Project_Functions import API_to_JSON"
   ]
  },
  {
   "cell_type": "code",
   "execution_count": 65,
   "metadata": {},
   "outputs": [],
   "source": [
    "from ISC_Project_Functions import jsonsearcher"
   ]
  },
  {
   "cell_type": "code",
   "execution_count": 66,
   "metadata": {},
   "outputs": [
    {
     "name": "stdout",
     "output_type": "stream",
     "text": [
      "What are we looking for? (or q: to quit): bleeding edge\n",
      "{1: 'http://dbpedia.org/resource/Bleeding_Edge', 2: 'http://dbpedia.org/resource/The_Edge_Chronicles'}\n",
      "With which URI would you like to continue? Press the matching key. 1\n",
      "\n",
      "\n",
      "Title: Bleeding Edge\n",
      "\n",
      "\n",
      "Author: Thomas Pynchon\n",
      "\n",
      "\n",
      "About the author: Thomas Ruggles Pynchon Jr. (, commonly ; born May 8, 1937) is an American novelist. A MacArthur Fellow, he is noted for his dense and complex novels. His fiction and non-fiction writings encompass a vast array of subject matter, genres and themes, including history, music, science, and mathematics. For Gravity's Rainbow, Pynchon won the 1973 U.S. National Book Award for Fiction. Hailing from Long Island, Pynchon served two years in the United States Navy and earned an English degree from Cornell University. After publishing several short stories in the late 1950s and early 1960s, he began composing the novels for which he is best known: V. (1963), The Crying of Lot 49 (1966), and Gravity's Rainbow (1973). His 2009 novel Inherent Vice was adapted into a feature film of the same name by director Paul Thomas Anderson in 2014. Pynchon is notoriously reclusive; few photographs of him have been published, and rumors about his location and identity have circulated since the 1960s. Pynchon's most recent novel, Bleeding Edge, was published on September 17, 2013.\n",
      "\n",
      "\n",
      "Abstract: Bleeding Edge is a novel by American author Thomas Pynchon, published by Penguin Press on September 17, 2013. The novel is a detective story, with its major themes being the September 11 attacks in New York City and the transformation of the world by the Internet.\n",
      "\n",
      "\n",
      "Original Language: English\n",
      "\n",
      "\n",
      "Country: United States\n",
      "\n",
      "\n",
      "Number of pages: 477\n",
      "\n",
      "\n",
      "Publisher: Information absent in data\n",
      "\n",
      "\n",
      "Date of publication: 2013\n"
     ]
    },
    {
     "ename": "KeyboardInterrupt",
     "evalue": "Interrupted by user",
     "output_type": "error",
     "traceback": [
      "\u001b[0;31m---------------------------------------------------------------------------\u001b[0m",
      "\u001b[0;31mKeyboardInterrupt\u001b[0m                         Traceback (most recent call last)",
      "\u001b[0;32m<ipython-input-66-58c90819b88c>\u001b[0m in \u001b[0;36m<module>\u001b[0;34m\u001b[0m\n\u001b[1;32m      2\u001b[0m     \u001b[0msearch\u001b[0m \u001b[0;34m=\u001b[0m \u001b[0;34m\" \"\u001b[0m\u001b[0;34m\u001b[0m\u001b[0;34m\u001b[0m\u001b[0m\n\u001b[1;32m      3\u001b[0m     \u001b[0;32mwhile\u001b[0m \u001b[0;32mnot\u001b[0m \u001b[0msearch\u001b[0m \u001b[0;34m==\u001b[0m \u001b[0;34m\"q\"\u001b[0m\u001b[0;34m:\u001b[0m\u001b[0;34m\u001b[0m\u001b[0;34m\u001b[0m\u001b[0m\n\u001b[0;32m----> 4\u001b[0;31m         \u001b[0msearch\u001b[0m \u001b[0;34m=\u001b[0m \u001b[0minput\u001b[0m\u001b[0;34m(\u001b[0m\u001b[0;34m\"What are we looking for? (or q: to quit): \"\u001b[0m\u001b[0;34m)\u001b[0m\u001b[0;34m\u001b[0m\u001b[0;34m\u001b[0m\u001b[0m\n\u001b[0m\u001b[1;32m      5\u001b[0m         \u001b[0;32mif\u001b[0m \u001b[0msearch\u001b[0m \u001b[0;34m==\u001b[0m \u001b[0;34m'q'\u001b[0m\u001b[0;34m:\u001b[0m\u001b[0;34m\u001b[0m\u001b[0;34m\u001b[0m\u001b[0m\n\u001b[1;32m      6\u001b[0m             \u001b[0mprint\u001b[0m\u001b[0;34m(\u001b[0m\u001b[0;34m\"Querying DBPedia Ended\"\u001b[0m\u001b[0;34m)\u001b[0m\u001b[0;34m\u001b[0m\u001b[0;34m\u001b[0m\u001b[0m\n",
      "\u001b[0;32m/opt/anaconda3/lib/python3.8/site-packages/ipykernel/kernelbase.py\u001b[0m in \u001b[0;36mraw_input\u001b[0;34m(self, prompt)\u001b[0m\n\u001b[1;32m    858\u001b[0m                 \u001b[0;34m\"raw_input was called, but this frontend does not support input requests.\"\u001b[0m\u001b[0;34m\u001b[0m\u001b[0;34m\u001b[0m\u001b[0m\n\u001b[1;32m    859\u001b[0m             )\n\u001b[0;32m--> 860\u001b[0;31m         return self._input_request(str(prompt),\n\u001b[0m\u001b[1;32m    861\u001b[0m             \u001b[0mself\u001b[0m\u001b[0;34m.\u001b[0m\u001b[0m_parent_ident\u001b[0m\u001b[0;34m,\u001b[0m\u001b[0;34m\u001b[0m\u001b[0;34m\u001b[0m\u001b[0m\n\u001b[1;32m    862\u001b[0m             \u001b[0mself\u001b[0m\u001b[0;34m.\u001b[0m\u001b[0m_parent_header\u001b[0m\u001b[0;34m,\u001b[0m\u001b[0;34m\u001b[0m\u001b[0;34m\u001b[0m\u001b[0m\n",
      "\u001b[0;32m/opt/anaconda3/lib/python3.8/site-packages/ipykernel/kernelbase.py\u001b[0m in \u001b[0;36m_input_request\u001b[0;34m(self, prompt, ident, parent, password)\u001b[0m\n\u001b[1;32m    902\u001b[0m             \u001b[0;32mexcept\u001b[0m \u001b[0mKeyboardInterrupt\u001b[0m\u001b[0;34m:\u001b[0m\u001b[0;34m\u001b[0m\u001b[0;34m\u001b[0m\u001b[0m\n\u001b[1;32m    903\u001b[0m                 \u001b[0;31m# re-raise KeyboardInterrupt, to truncate traceback\u001b[0m\u001b[0;34m\u001b[0m\u001b[0;34m\u001b[0m\u001b[0;34m\u001b[0m\u001b[0m\n\u001b[0;32m--> 904\u001b[0;31m                 \u001b[0;32mraise\u001b[0m \u001b[0mKeyboardInterrupt\u001b[0m\u001b[0;34m(\u001b[0m\u001b[0;34m\"Interrupted by user\"\u001b[0m\u001b[0;34m)\u001b[0m \u001b[0;32mfrom\u001b[0m \u001b[0;32mNone\u001b[0m\u001b[0;34m\u001b[0m\u001b[0;34m\u001b[0m\u001b[0m\n\u001b[0m\u001b[1;32m    905\u001b[0m             \u001b[0;32mexcept\u001b[0m \u001b[0mException\u001b[0m \u001b[0;32mas\u001b[0m \u001b[0me\u001b[0m\u001b[0;34m:\u001b[0m\u001b[0;34m\u001b[0m\u001b[0;34m\u001b[0m\u001b[0m\n\u001b[1;32m    906\u001b[0m                 \u001b[0mself\u001b[0m\u001b[0;34m.\u001b[0m\u001b[0mlog\u001b[0m\u001b[0;34m.\u001b[0m\u001b[0mwarning\u001b[0m\u001b[0;34m(\u001b[0m\u001b[0;34m\"Invalid Message:\"\u001b[0m\u001b[0;34m,\u001b[0m \u001b[0mexc_info\u001b[0m\u001b[0;34m=\u001b[0m\u001b[0;32mTrue\u001b[0m\u001b[0;34m)\u001b[0m\u001b[0;34m\u001b[0m\u001b[0;34m\u001b[0m\u001b[0m\n",
      "\u001b[0;31mKeyboardInterrupt\u001b[0m: Interrupted by user"
     ]
    }
   ],
   "source": [
    "if __name__ == \"__main__\":\n",
    "    search = \" \"\n",
    "    while not search == \"q\":\n",
    "        search = input(\"What are we looking for? (or 'q' to quit): \")\n",
    "        if search == 'q':\n",
    "            print(\"Querying DBPedia Ended\")\n",
    "            break\n",
    "        else:\n",
    "            # 1 Making sure the prefix we are using still works\n",
    "            DBPEDIA_PREFIX = getAPIprefix()\n",
    "            # 2 Harvesting XML\n",
    "            SEARCH_RESPONSE = query_DBpedia1(DBPEDIA_PREFIX, search)\n",
    "            # 3 Parsing XML to intermediary dictionary\n",
    "            PARENTS = parser4(SEARCH_RESPONSE)\n",
    "            # 4 Checking whether the database contains information about the book we are looking for.\n",
    "            # If not, the user can ask for a new title.\n",
    "            if PARENTS == {}:\n",
    "                    print(\"The title does not appear in the database, please try another title.\")\n",
    "                    continue\n",
    "            else: \n",
    "                POSSIBLE_URI = titleselector(PARENTS)\n",
    "            # 5 Transforming resouce URL to JSON URL \n",
    "                JSON_URI = API_to_JSON(POSSIBLE_URI)\n",
    "            # 6 Iterate over the JSON file and extract the wanted metadata\n",
    "                FINAL_DATA = jsonsearcher(POSSIBLE_URI, JSON_URI)    \n",
    "           "
   ]
  }
 ],
 "metadata": {
  "kernelspec": {
   "display_name": "Python 3",
   "language": "python",
   "name": "python3"
  },
  "language_info": {
   "codemirror_mode": {
    "name": "ipython",
    "version": 3
   },
   "file_extension": ".py",
   "mimetype": "text/x-python",
   "name": "python",
   "nbconvert_exporter": "python",
   "pygments_lexer": "ipython3",
   "version": "3.8.3"
  }
 },
 "nbformat": 4,
 "nbformat_minor": 4
}
